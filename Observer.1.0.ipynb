{
 "cells": [
  {
   "cell_type": "code",
   "execution_count": 59,
   "metadata": {},
   "outputs": [],
   "source": [
    "import pandas as pd\n",
    "import seaborn as sns\n",
    "import sklearn.cluster as cluster\n",
    "import numpy as np\n",
    "import matplotlib.pyplot as plt\n",
    "from sklearn.preprocessing import StandardScaler as SC\n",
    "from sklearn.neighbors import KNeighborsRegressor as KNN\n",
    "\n",
    "big_data = pd.read_csv('airbnb_coded.2.0.csv')\n",
    "sc = SC()\n",
    "sc_y = SC()\n",
    "knn = KNN(n_neighbors=65, weights='distance')\n",
    "\n",
    "pd.options.mode.chained_assignment = None  # default='warn'"
   ]
  },
  {
   "cell_type": "code",
   "execution_count": 74,
   "metadata": {},
   "outputs": [
    {
     "name": "stdout",
     "output_type": "stream",
     "text": [
      "26\n",
      "[  1.   0.   0.   0.   0.   1.   0.   0.   0.   0.   1.   0.   0.   1.\n",
      "   0.   2.  30.  14.   2.   0.   0.   0.  10.  97.   1. 100.]\n"
     ]
    }
   ],
   "source": [
    "from sklearn.model_selection import train_test_split\n",
    "from sklearn.compose import ColumnTransformer\n",
    "from sklearn.preprocessing import OneHotEncoder\n",
    "\n",
    "ct = ColumnTransformer(transformers=[('encoder', OneHotEncoder(), [-1])], remainder='passthrough')\n",
    "var = 'bathrooms'\n",
    "var2 = 'accommodates'\n",
    "var3 = 'cleaning_fee'\n",
    "var4 = 'bedrooms'\n",
    "var5 = 'beds'\n",
    "var6 = 'minimum_nights_x'\n",
    "var7 = 'maximum_nights'\n",
    "var8 = 'number_of_reviews_y'\n",
    "var9 = 'listing_class'\n",
    "var10 = 'price_x'\n",
    "var11 = 'bed_code'\n",
    "var12 = 'cancellation_policy_mapped'\n",
    "var13 = 'room_code'\n",
    "var14 = 'superhost'\n",
    "var15 = 'instant_book'\n",
    "var16 = 'review_scores_location'\n",
    "var17 = 'review_scores_rating'\n",
    "var18 = 'host_total_listings_count'\n",
    "var19 = 'availability_90'\n",
    "var20 = 'room_code'\n",
    "var21 = 'extra_people'\n",
    "var22 = 'property_type'\n",
    "var23 = 'review_scores_value'\n",
    "var24 = 'review_scores_cleanliness'\n",
    "var25 = 'review_scores_checkin'\n",
    "var26 = 'review_scores_communication'\n",
    "var27 = 'review_scores_value'\n",
    "var28 = 'guests_included'\n",
    "var29 = 'security_deposit'\n",
    "var30 = 'host_since'\n",
    "var31 = 'loc_class'\n",
    "var32 = 'profile_pic'\n",
    "var33 = 'amenities'\n",
    "\n",
    "big_data = big_data[big_data.price_x < 400]\n",
    "big_data = big_data[big_data.price_x > 8]\n",
    "\n",
    "data = big_data[[var, var2, var3, var4, var5, var6, var7, var8, var11, var12, var13, var14, var15, var16, var17, var18, var19, var21, var22, var23, var24,\n",
    "                 var25, var26, var27, var28, var29, var30, var31, var32, var33, var9, var10]]\n",
    "\n",
    "data[var] = data[var].fillna(data[var].median())\n",
    "data[var2] = data[var2].fillna(data[var2].median())\n",
    "data[var3] = data[var3].fillna(data[var3].median())\n",
    "data[var4] = data[var4].fillna(data[var4].median())\n",
    "data[var5] = data[var5].fillna(data[var5].median())\n",
    "\n",
    "data[var6][17990] = data[var6].median()\n",
    "data[var6][6215] = data[var6].median()\n",
    "data[var6][11299] = data[var6].median()\n",
    "data[var6][12737] = data[var6].median()\n",
    "data[var6][14598] = data[var6].median()\n",
    "# data[var7][872] = 8000\n",
    "# data[var7][2372] = 8000\n",
    "# data[var7][4391] = 8000\n",
    "# data[var7][17952] = 8000\n",
    "# data[var7][17990] = data[var7].median()\n",
    "# data[var7][6351] = data[var7].median()\n",
    "# data[var7][8341] = data[var7].median()\n",
    "\n",
    "\n",
    "data[var6] = data[var6].fillna(data[var6].median())\n",
    "data[var7] = data[var7].fillna(data[var7].median())\n",
    "data[var8] = data[var8].fillna(data[var8].median())\n",
    "data[var10] = data[var10].fillna(data[var10].median())\n",
    "data[var11] = data[var11].fillna(data[var11].median())\n",
    "data[var12] = data[var12].fillna(data[var12].median())\n",
    "data[var13] = data[var13].fillna(data[var13].median())\n",
    "data[var14] = data[var14].fillna(data[var14].median())\n",
    "data[var15] = data[var15].fillna(data[var15].median())\n",
    "data[var16] = data[var16].fillna(data[var16].median())\n",
    "data[var17] = data[var17].fillna(data[var17].median())\n",
    "data[var18] = data[var18].fillna(data[var18].median())\n",
    "data[var19] = data[var19].fillna(data[var19].median())\n",
    "data[var20] = data[var20].fillna(data[var20].median())\n",
    "data[var21] = data[var21].fillna(data[var21].median())\n",
    "data[var22] = data[var22].fillna('Apartment')\n",
    "data[var23] = data[var23].fillna(data[var23].median())\n",
    "data[var24] = data[var24].fillna(data[var24].median())\n",
    "data[var25] = data[var25].fillna(data[var25].median())\n",
    "data[var26] = data[var26].fillna(data[var26].median())\n",
    "data[var27] = data[var27].fillna(data[var27].median())\n",
    "data[var28] = data[var28].fillna(data[var28].median())\n",
    "data[var29] = data[var29].fillna(data[var29].median())\n",
    "data[var30] = data[var30].fillna(data[var30].median())\n",
    "data[var31] = data[var31].fillna(data[var31].median())\n",
    "data[var32] = data[var32].fillna(data[var32].median())\n",
    "\n",
    "\n",
    "\n",
    "\n",
    "\n",
    "# data[var6][17990] = data[var6].median()\n",
    "\n",
    "# data = data.drop(data.index[17990])\n",
    "data = data.drop(data.index[14598])\n",
    "\n",
    "data = data[[var2, var3, var6, var18, var19, var21, var8, var16, var17, var, var29,\n",
    "             var9, var13, var12, var31, var10]]\n",
    "# data = data[[var, var2, var3, var6, var8, var18, var17, var21, var19, var9, var12, var20, var22, var10]]\n",
    "\n",
    "\n",
    "X = data.iloc[:, :-1].values\n",
    "y = data.iloc[:, -1].values\n",
    "X = ct.fit_transform(X)\n",
    "# X = X.todense()\n",
    "X = np.array(X)\n",
    "X = ct.fit_transform(X)\n",
    "# X = X.todense()\n",
    "X = np.array(X)\n",
    "X = ct.fit_transform(X)\n",
    "# X = X.todense()\n",
    "X = np.array(X)\n",
    "X = ct.fit_transform(X)\n",
    "# X = X.todense()\n",
    "X = np.array(X)\n",
    "# X = ct.fit_transform(X)\n",
    "# # X = X.todense()\n",
    "# X = np.array(X)\n",
    "# X = ct.fit_transform(X)\n",
    "# # X = X.todense()\n",
    "# X = np.array(X)\n",
    "# X = ct.fit_transform(X)\n",
    "# # X = X.todense()\n",
    "# X = np.array(X)\n",
    "\n",
    "# from sklearn.feature_extraction.text import CountVectorizer\n",
    "# vect = CountVectorizer()\n",
    "# amenities = data[var33].values\n",
    "# # print(amenities)\n",
    "# # for i in range(len(amenities)):\n",
    "# # print(amenities)\n",
    "# vect.fit(amenities)\n",
    "# amenities_array = vect.transform(amenities)\n",
    "# amenities_array = amenities_array.todense()\n",
    "\n",
    "# X = np.concatenate((X, amenities_array),axis=1)\n",
    "# plt.scatter(data[var6].values, data[var7].values, s=100, c='red', alpha=0.5)\n",
    "# plt.show()\n",
    "\n",
    "print(len(X[0]))\n",
    "print(X[0])\n",
    "# X[:,-8:] = sc.fit_transform(X[:,-8:])\n",
    "# X = sc.fit_transform(X)\n",
    "# print(X[0])\n",
    "# X_train, X_test, y_train, y_test = train_test_split(X, y, test_size = 0.1)\n",
    "\n",
    "# data.head()"
   ]
  },
  {
   "cell_type": "code",
   "execution_count": 61,
   "metadata": {},
   "outputs": [],
   "source": [
    "# X = sc.fit_transform(X)\n",
    "X_train, X_test, y_train, y_test = train_test_split(X, y, test_size = 0.3)\n",
    "# X_train = sc.fit_transform(X_train)\n",
    "# X_test = sc.fit_transform(X_test)"
   ]
  },
  {
   "cell_type": "code",
   "execution_count": 62,
   "metadata": {},
   "outputs": [
    {
     "data": {
      "text/plain": [
       "0.6606939359195525"
      ]
     },
     "execution_count": 62,
     "metadata": {},
     "output_type": "execute_result"
    }
   ],
   "source": [
    "from sklearn.ensemble import RandomForestRegressor as RFR\n",
    "rf = RFR(n_estimators=800, min_samples_leaf=11)\n",
    "rf = rf.fit(X_train, y_train)\n",
    "rf.score(X_train, y_train)"
   ]
  },
  {
   "cell_type": "code",
   "execution_count": 63,
   "metadata": {},
   "outputs": [
    {
     "data": {
      "text/plain": [
       "0.5688858131436738"
      ]
     },
     "execution_count": 63,
     "metadata": {},
     "output_type": "execute_result"
    }
   ],
   "source": [
    "rf.score(X_test, y_test)"
   ]
  },
  {
   "cell_type": "code",
   "execution_count": 66,
   "metadata": {},
   "outputs": [
    {
     "data": {
      "image/png": "[encoded data removed]",
      "text/plain": [
       "<Figure size 432x288 with 1 Axes>"
      ]
     },
     "metadata": {
      "needs_background": "light"
     },
     "output_type": "display_data"
    }
   ],
   "source": [
    "plt.title(\"RFR Performance\")\n",
    "plt.ylabel('Prediction')\n",
    "plt.xlabel('Real')\n",
    "plt.scatter(y_test, rf.predict(X_test), c='blue', alpha=0.1)\n",
    "plt.plot([1,10,100,200,300,400],[1,10,100,200,300,400],c='red')\n",
    "plt.savefig('rfr.png')\n",
    "plt.show()"
   ]
  },
  {
   "cell_type": "code",
   "execution_count": 73,
   "metadata": {},
   "outputs": [
    {
     "data": {
      "text/plain": [
       "array([6.88975895e-04, 1.93852096e-04, 0.00000000e+00, 1.35162011e-03,\n",
       "       8.28933316e-04, 1.27405593e-01, 1.16285945e-02, 0.00000000e+00,\n",
       "       3.95511574e-03, 3.04753798e-03, 3.73713181e-03, 3.39997823e-03,\n",
       "       1.66485582e-04, 3.58064763e-03, 1.27386272e-02, 4.12703145e-01,\n",
       "       9.16515197e-02, 3.40579564e-02, 1.20791039e-02, 7.73411716e-02,\n",
       "       4.68907939e-02, 3.58570610e-02, 6.79311379e-03, 1.96218176e-02,\n",
       "       7.39874108e-02, 1.62938131e-02])"
      ]
     },
     "execution_count": 73,
     "metadata": {},
     "output_type": "execute_result"
    }
   ],
   "source": [
    "rf.feature_importances_"
   ]
  },
  {
   "cell_type": "code",
   "execution_count": 81,
   "metadata": {},
   "outputs": [
    {
     "data": {
      "image/png": "[encoded data removed]",
      "text/plain": [
       "<Figure size 432x288 with 1 Axes>"
      ]
     },
     "metadata": {
      "needs_background": "light"
     },
     "output_type": "display_data"
    }
   ],
   "source": [
    "plt.title(\"RFR Feature Importance\")\n",
    "plt.ylabel('Importance Score')\n",
    "plt.xlabel('Feature')\n",
    "plt.bar(['accommodates', 'Room_entire_apt', 'loc_in_zone_0', 'Room_private'], [4.12703145e-01, 1.27405593e-01, 1.27386272e-02, 1.16285945e-02], color='blue', alpha=0.5)\n",
    "plt.savefig('rfr_feature_importance.png')\n",
    "plt.show()"
   ]
  },
  {
   "cell_type": "code",
   "execution_count": 38,
   "metadata": {},
   "outputs": [
    {
     "data": {
      "text/plain": [
       "8424.159267183615"
      ]
     },
     "execution_count": 38,
     "metadata": {},
     "output_type": "execute_result"
    }
   ],
   "source": [
    "from sklearn.metrics import mean_squared_error as mse\n",
    "# mse(y_test, rf.predict(X_test))\n",
    "# mse([1,1,50,10], [1,1,100,10])"
   ]
  },
  {
   "cell_type": "code",
   "execution_count": null,
   "metadata": {},
   "outputs": [],
   "source": [
    "# rf = RFR(n_estimators=500, min_samples_leaf=10)\n",
    "# rf = rf.fit(X_train, y_train)\n",
    "# rf.score(X_train, y_train)"
   ]
  },
  {
   "cell_type": "code",
   "execution_count": null,
   "metadata": {},
   "outputs": [],
   "source": [
    "# rf.score(X_test, y_test)"
   ]
  },
  {
   "cell_type": "code",
   "execution_count": 65,
   "metadata": {},
   "outputs": [
    {
     "name": "stdout",
     "output_type": "stream",
     "text": [
      "[ 650.30068111  814.96500349  818.15707754 1056.54267544  734.44023884\n",
      "  870.06032231  687.33174804  660.69879007  765.06001027  870.16422587]\n",
      "792.772077296369\n"
     ]
    },
    {
     "data": {
      "text/plain": [
       "116.49229465213335"
      ]
     },
     "execution_count": 65,
     "metadata": {},
     "output_type": "execute_result"
    }
   ],
   "source": [
    "from sklearn.model_selection import cross_val_score\n",
    "scores = -cross_val_score(rf, X_train, \n",
    "                          y_train, scoring='neg_mean_squared_error', cv=10, n_jobs=-1)\n",
    "print(scores)\n",
    "print(np.mean(scores))\n",
    "np.std(scores)"
   ]
  },
  {
   "cell_type": "code",
   "execution_count": 49,
   "metadata": {},
   "outputs": [
    {
     "name": "stdout",
     "output_type": "stream",
     "text": [
      "[26.18592956 21.69296039 21.98015277 19.13430824 19.5197009 ]\n",
      "21.702610371627536\n"
     ]
    },
    {
     "data": {
      "text/plain": [
       "2.5115152198043735"
      ]
     },
     "execution_count": 49,
     "metadata": {},
     "output_type": "execute_result"
    }
   ],
   "source": [
    "from sklearn.model_selection import cross_val_score\n",
    "scores = -cross_val_score(rf, X_train, \n",
    "                          y_train, scoring='neg_mean_absolute_error', cv=5, n_jobs=-1)\n",
    "print(scores)\n",
    "print(np.mean(scores))\n",
    "np.std(scores)"
   ]
  },
  {
   "cell_type": "code",
   "execution_count": null,
   "metadata": {},
   "outputs": [],
   "source": [
    "# array = data[var10].isna()\n",
    "# array = array.values\n",
    "# for i in range(len(array)):\n",
    "#     if array[i]:\n",
    "#         print(i)"
   ]
  },
  {
   "cell_type": "code",
   "execution_count": null,
   "metadata": {},
   "outputs": [],
   "source": [
    "knn.fit(X_train, y_train)\n",
    "knn.score(X_train, y_train)"
   ]
  },
  {
   "cell_type": "code",
   "execution_count": null,
   "metadata": {},
   "outputs": [],
   "source": [
    "knn.score(X_test, y_test)"
   ]
  },
  {
   "cell_type": "code",
   "execution_count": null,
   "metadata": {},
   "outputs": [],
   "source": [
    "from sklearn.model_selection import cross_val_score\n",
    "scores = cross_val_score(knn, X_train, \n",
    "                          y_train, scoring='r2', cv=10, n_jobs=-1)\n",
    "print(scores)\n",
    "np.mean(scores)"
   ]
  },
  {
   "cell_type": "code",
   "execution_count": null,
   "metadata": {},
   "outputs": [],
   "source": [
    "from sklearn.tree import DecisionTreeRegressor as DTR\n",
    "dt = DTR(min_samples_leaf=10)\n",
    "dt = dt.fit(X_train, y_train)\n",
    "dt.score(X_train, y_train)"
   ]
  },
  {
   "cell_type": "code",
   "execution_count": null,
   "metadata": {},
   "outputs": [],
   "source": [
    "dt.score(X_test, y_test)"
   ]
  },
  {
   "cell_type": "code",
   "execution_count": null,
   "metadata": {},
   "outputs": [],
   "source": [
    "scores = cross_val_score(dt, X_train, \n",
    "                          y_train, scoring='r2', cv=10, n_jobs=-1)\n",
    "print(scores)\n",
    "np.mean(scores)"
   ]
  },
  {
   "cell_type": "code",
   "execution_count": null,
   "metadata": {},
   "outputs": [],
   "source": []
  },
  {
   "cell_type": "code",
   "execution_count": null,
   "metadata": {},
   "outputs": [],
   "source": []
  },
  {
   "cell_type": "code",
   "execution_count": null,
   "metadata": {},
   "outputs": [],
   "source": []
  }
 ],
 "metadata": {
  "kernelspec": {
   "display_name": "Python 3",
   "language": "python",
   "name": "python3"
  },
  "language_info": {
   "codemirror_mode": {
    "name": "ipython",
    "version": 3
   },
   "file_extension": ".py",
   "mimetype": "text/x-python",
   "name": "python",
   "nbconvert_exporter": "python",
   "pygments_lexer": "ipython3",
   "version": "3.8.2"
  }
 },
 "nbformat": 4,
 "nbformat_minor": 4
}
