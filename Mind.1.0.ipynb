{
 "cells": [
  {
   "cell_type": "code",
   "execution_count": 319,
   "metadata": {},
   "outputs": [],
   "source": [
    "import pandas as pd\n",
    "import seaborn as sns\n",
    "import sklearn.cluster as cluster\n",
    "import numpy as np\n",
    "import matplotlib.pyplot as plt\n",
    "from sklearn.preprocessing import StandardScaler as sc\n",
    "from sklearn.neighbors import KNeighborsRegressor as KNN\n",
    "\n",
    "big_data = pd.read_csv('airbnb_coded.2.0.csv')\n",
    "sc = sc()\n",
    "knn = KNN(n_neighbors=65, weights='distance')\n",
    "\n",
    "pd.options.mode.chained_assignment = None  # default='warn'"
   ]
  },
  {
   "cell_type": "code",
   "execution_count": 320,
   "metadata": {},
   "outputs": [
    {
     "name": "stdout",
     "output_type": "stream",
     "text": [
      "26\n",
      "[[  1.   0.   0. ...  97.   1. 100.]\n",
      " [  1.   0.   0. ...  75.   1. 100.]\n",
      " [  1.   0.   0. ...  80.   1.   0.]\n",
      " ...\n",
      " [  1.   0.   0. ...  99.   1.   0.]\n",
      " [  1.   0.   0. ...  90.   1.   0.]\n",
      " [  1.   0.   0. ... 100.   1. 100.]]\n"
     ]
    }
   ],
   "source": [
    "from sklearn.model_selection import train_test_split\n",
    "from sklearn.compose import ColumnTransformer\n",
    "from sklearn.preprocessing import OneHotEncoder\n",
    "\n",
    "ct = ColumnTransformer(transformers=[('encoder', OneHotEncoder(), [-1])], remainder='passthrough')\n",
    "var = 'bathrooms'\n",
    "var2 = 'accommodates'\n",
    "var3 = 'cleaning_fee'\n",
    "var4 = 'bedrooms'\n",
    "var5 = 'beds'\n",
    "var6 = 'minimum_nights_x'\n",
    "var7 = 'maximum_nights'\n",
    "var8 = 'number_of_reviews_y'\n",
    "var9 = 'listing_class'\n",
    "var10 = 'price_x'\n",
    "var11 = 'bed_code'\n",
    "var12 = 'cancellation_policy_mapped'\n",
    "var13 = 'room_code'\n",
    "var14 = 'superhost'\n",
    "var15 = 'instant_book'\n",
    "var16 = 'review_scores_location'\n",
    "var17 = 'review_scores_rating'\n",
    "var18 = 'host_total_listings_count'\n",
    "var19 = 'availability_90'\n",
    "var20 = 'room_code'\n",
    "var21 = 'extra_people'\n",
    "var22 = 'property_type'\n",
    "var23 = 'review_scores_value'\n",
    "var24 = 'review_scores_cleanliness'\n",
    "var25 = 'review_scores_checkin'\n",
    "var26 = 'review_scores_communication'\n",
    "var27 = 'review_scores_value'\n",
    "var28 = 'guests_included'\n",
    "var29 = 'security_deposit'\n",
    "var30 = 'host_since'\n",
    "var31 = 'loc_class'\n",
    "var32 = 'profile_pic'\n",
    "var33 = 'amenities'\n",
    "\n",
    "big_data = big_data[big_data.price_x < 400]\n",
    "big_data = big_data[big_data.price_x > 8]\n",
    "\n",
    "data = big_data[[var, var2, var3, var4, var5, var6, var7, var8, var11, var12, var13, var14, var15, var16, var17, var18, var19, var21, var22, var23, var24,\n",
    "                 var25, var26, var27, var28, var29, var30, var31, var32, var33, var9, var10]]\n",
    "\n",
    "data[var] = data[var].fillna(data[var].median())\n",
    "data[var2] = data[var2].fillna(data[var2].median())\n",
    "data[var3] = data[var3].fillna(data[var3].median())\n",
    "data[var4] = data[var4].fillna(data[var4].median())\n",
    "data[var5] = data[var5].fillna(data[var5].median())\n",
    "\n",
    "data[var6][17990] = data[var6].median()\n",
    "data[var6][6215] = data[var6].median()\n",
    "data[var6][11299] = data[var6].median()\n",
    "data[var6][12737] = data[var6].median()\n",
    "data[var6][14598] = data[var6].median()\n",
    "# data[var7][872] = 8000\n",
    "# data[var7][2372] = 8000\n",
    "# data[var7][4391] = 8000\n",
    "# data[var7][17952] = 8000\n",
    "# data[var7][17990] = data[var7].median()\n",
    "# data[var7][6351] = data[var7].median()\n",
    "# data[var7][8341] = data[var7].median()\n",
    "\n",
    "\n",
    "data[var6] = data[var6].fillna(data[var6].median())\n",
    "data[var7] = data[var7].fillna(data[var7].median())\n",
    "data[var8] = data[var8].fillna(data[var8].median())\n",
    "data[var10] = data[var10].fillna(data[var10].median())\n",
    "data[var11] = data[var11].fillna(data[var11].median())\n",
    "data[var12] = data[var12].fillna(data[var12].median())\n",
    "data[var13] = data[var13].fillna(data[var13].median())\n",
    "data[var14] = data[var14].fillna(data[var14].median())\n",
    "data[var15] = data[var15].fillna(data[var15].median())\n",
    "data[var16] = data[var16].fillna(data[var16].median())\n",
    "data[var17] = data[var17].fillna(data[var17].median())\n",
    "data[var18] = data[var18].fillna(data[var18].median())\n",
    "data[var19] = data[var19].fillna(data[var19].median())\n",
    "data[var20] = data[var20].fillna(data[var20].median())\n",
    "data[var21] = data[var21].fillna(data[var21].median())\n",
    "data[var22] = data[var22].fillna('Apartment')\n",
    "data[var23] = data[var23].fillna(data[var23].median())\n",
    "data[var24] = data[var24].fillna(data[var24].median())\n",
    "data[var25] = data[var25].fillna(data[var25].median())\n",
    "data[var26] = data[var26].fillna(data[var26].median())\n",
    "data[var27] = data[var27].fillna(data[var27].median())\n",
    "data[var28] = data[var28].fillna(data[var28].median())\n",
    "data[var29] = data[var29].fillna(data[var29].median())\n",
    "data[var30] = data[var30].fillna(data[var30].median())\n",
    "data[var31] = data[var31].fillna(data[var31].median())\n",
    "data[var32] = data[var32].fillna(data[var32].median())\n",
    "\n",
    "\n",
    "\n",
    "\n",
    "\n",
    "# data[var6][17990] = data[var6].median()\n",
    "\n",
    "# data = data.drop(data.index[17990])\n",
    "data = data.drop(data.index[14598])\n",
    "\n",
    "data = data[[var2, var3, var6, var18, var19, var21, var8, var16, var17, var, var29,\n",
    "             var9, var13, var12, var31, var10]]\n",
    "# data = data[[var, var2, var3, var6, var8, var18, var17, var21, var19, var9, var12, var20, var22, var10]]\n",
    "\n",
    "\n",
    "X = data.iloc[:, :-1].values\n",
    "y = data.iloc[:, -1].values\n",
    "X = ct.fit_transform(X)\n",
    "# X = X.todense()\n",
    "X = np.array(X)\n",
    "X = ct.fit_transform(X)\n",
    "# X = X.todense()\n",
    "X = np.array(X)\n",
    "X = ct.fit_transform(X)\n",
    "# X = X.todense()\n",
    "X = np.array(X)\n",
    "X = ct.fit_transform(X)\n",
    "# X = X.todense()\n",
    "X = np.array(X)\n",
    "# X = ct.fit_transform(X)\n",
    "# # X = X.todense()\n",
    "# X = np.array(X)\n",
    "# X = ct.fit_transform(X)\n",
    "# # X = X.todense()\n",
    "# X = np.array(X)\n",
    "# X = ct.fit_transform(X)\n",
    "# # X = X.todense()\n",
    "# X = np.array(X)\n",
    "\n",
    "# from sklearn.feature_extraction.text import CountVectorizer\n",
    "# vect = CountVectorizer()\n",
    "# amenities = data[var33].values\n",
    "# # print(amenities)\n",
    "# # for i in range(len(amenities)):\n",
    "# # print(amenities)\n",
    "# vect.fit(amenities)\n",
    "# amenities_array = vect.transform(amenities)\n",
    "# amenities_array = amenities_array.todense()\n",
    "\n",
    "# X = np.concatenate((X, amenities_array),axis=1)\n",
    "# plt.scatter(data[var6].values, data[var7].values, s=100, c='red', alpha=0.5)\n",
    "# plt.show()\n",
    "\n",
    "print(len(X[0]))\n",
    "print(X)\n",
    "# X[:,-8:] = sc.fit_transform(X[:,-8:])\n",
    "# X = sc.fit_transform(X)\n",
    "# print(X[0])\n",
    "# X_train, X_test, y_train, y_test = train_test_split(X, y, test_size = 0.1)\n",
    "\n",
    "# data.head()"
   ]
  },
  {
   "cell_type": "code",
   "execution_count": 302,
   "metadata": {},
   "outputs": [],
   "source": [
    "X_train, X_test, y_train, y_test = train_test_split(X, y, test_size = 0.3)"
   ]
  },
  {
   "cell_type": "code",
   "execution_count": 303,
   "metadata": {},
   "outputs": [],
   "source": [
    "import keras\n",
    "from keras.models import Sequential\n",
    "from keras.layers import Dense"
   ]
  },
  {
   "cell_type": "code",
   "execution_count": 304,
   "metadata": {},
   "outputs": [],
   "source": [
    "ann = Sequential()"
   ]
  },
  {
   "cell_type": "code",
   "execution_count": 305,
   "metadata": {},
   "outputs": [
    {
     "name": "stderr",
     "output_type": "stream",
     "text": [
      "<ipython-input-305-be550337f789>:1: UserWarning: Update your `Dense` call to the Keras 2 API: `Dense(activation=\"relu\", input_dim=26, units=17, kernel_initializer=\"uniform\")`\n",
      "  ann.add(Dense(output_dim=17, init='uniform', activation='relu', input_dim=26))\n"
     ]
    }
   ],
   "source": [
    "ann.add(Dense(output_dim=17, init='uniform', activation='relu', input_dim=26))"
   ]
  },
  {
   "cell_type": "code",
   "execution_count": 306,
   "metadata": {},
   "outputs": [
    {
     "name": "stderr",
     "output_type": "stream",
     "text": [
      "<ipython-input-306-5cb98ab76bde>:1: UserWarning: Update your `Dense` call to the Keras 2 API: `Dense(activation=\"relu\", units=17, kernel_initializer=\"uniform\")`\n",
      "  ann.add(Dense(output_dim=17, init='uniform', activation='relu'))\n"
     ]
    }
   ],
   "source": [
    "ann.add(Dense(output_dim=17, init='uniform', activation='relu'))"
   ]
  },
  {
   "cell_type": "code",
   "execution_count": 307,
   "metadata": {},
   "outputs": [
    {
     "name": "stderr",
     "output_type": "stream",
     "text": [
      "<ipython-input-307-5cb98ab76bde>:1: UserWarning: Update your `Dense` call to the Keras 2 API: `Dense(activation=\"relu\", units=17, kernel_initializer=\"uniform\")`\n",
      "  ann.add(Dense(output_dim=17, init='uniform', activation='relu'))\n"
     ]
    }
   ],
   "source": [
    "ann.add(Dense(output_dim=17, init='uniform', activation='relu'))"
   ]
  },
  {
   "cell_type": "code",
   "execution_count": 308,
   "metadata": {},
   "outputs": [
    {
     "name": "stderr",
     "output_type": "stream",
     "text": [
      "<ipython-input-308-5cb98ab76bde>:1: UserWarning: Update your `Dense` call to the Keras 2 API: `Dense(activation=\"relu\", units=17, kernel_initializer=\"uniform\")`\n",
      "  ann.add(Dense(output_dim=17, init='uniform', activation='relu'))\n"
     ]
    }
   ],
   "source": [
    "ann.add(Dense(output_dim=17, init='uniform', activation='relu'))"
   ]
  },
  {
   "cell_type": "code",
   "execution_count": 309,
   "metadata": {},
   "outputs": [
    {
     "name": "stderr",
     "output_type": "stream",
     "text": [
      "<ipython-input-309-5cb98ab76bde>:1: UserWarning: Update your `Dense` call to the Keras 2 API: `Dense(activation=\"relu\", units=17, kernel_initializer=\"uniform\")`\n",
      "  ann.add(Dense(output_dim=17, init='uniform', activation='relu'))\n"
     ]
    }
   ],
   "source": [
    "ann.add(Dense(output_dim=17, init='uniform', activation='relu'))"
   ]
  },
  {
   "cell_type": "code",
   "execution_count": 310,
   "metadata": {},
   "outputs": [
    {
     "name": "stderr",
     "output_type": "stream",
     "text": [
      "<ipython-input-310-de58dc7503ba>:1: UserWarning: Update your `Dense` call to the Keras 2 API: `Dense(units=1, kernel_initializer=\"uniform\")`\n",
      "  ann.add(Dense(output_dim=1, init='uniform'))\n"
     ]
    }
   ],
   "source": [
    "ann.add(Dense(output_dim=1, init='uniform'))"
   ]
  },
  {
   "cell_type": "code",
   "execution_count": 311,
   "metadata": {},
   "outputs": [],
   "source": [
    "ann.compile(optimizer='adam', loss='mean_squared_error', metrics=['mean_squared_error'])"
   ]
  },
  {
   "cell_type": "code",
   "execution_count": 312,
   "metadata": {},
   "outputs": [
    {
     "name": "stderr",
     "output_type": "stream",
     "text": [
      "<ipython-input-312-b1ce75173cec>:1: UserWarning: The `nb_epoch` argument in `fit` has been renamed `epochs`.\n",
      "  ann.fit(X_train, y_train, batch_size=12, nb_epoch=100)\n"
     ]
    },
    {
     "name": "stdout",
     "output_type": "stream",
     "text": [
      "Epoch 1/100\n",
      "12551/12551 [==============================] - 1s 93us/step - loss: 1587.7895 - mean_squared_error: 1587.7903\n",
      "Epoch 2/100\n",
      "12551/12551 [==============================] - 1s 79us/step - loss: 1111.5868 - mean_squared_error: 1111.5863\n",
      "Epoch 3/100\n",
      "12551/12551 [==============================] - 1s 79us/step - loss: 991.4241 - mean_squared_error: 991.4236\n",
      "Epoch 4/100\n",
      "12551/12551 [==============================] - 1s 77us/step - loss: 964.7866 - mean_squared_error: 964.7866\n",
      "Epoch 5/100\n",
      "12551/12551 [==============================] - 1s 77us/step - loss: 934.8412 - mean_squared_error: 934.8417\n",
      "Epoch 6/100\n",
      "12551/12551 [==============================] - 1s 76us/step - loss: 929.3266 - mean_squared_error: 929.3267\n",
      "Epoch 7/100\n",
      "12551/12551 [==============================] - 1s 77us/step - loss: 926.4652 - mean_squared_error: 926.4648\n",
      "Epoch 8/100\n",
      "12551/12551 [==============================] - 1s 83us/step - loss: 915.2774 - mean_squared_error: 915.2763\n",
      "Epoch 9/100\n",
      "12551/12551 [==============================] - 1s 79us/step - loss: 893.2748 - mean_squared_error: 893.2749\n",
      "Epoch 10/100\n",
      "12551/12551 [==============================] - 1s 78us/step - loss: 882.3338 - mean_squared_error: 882.3341\n",
      "Epoch 11/100\n",
      "12551/12551 [==============================] - 1s 78us/step - loss: 869.5278 - mean_squared_error: 869.5273\n",
      "Epoch 12/100\n",
      "12551/12551 [==============================] - 1s 80us/step - loss: 870.5855 - mean_squared_error: 870.5854\n",
      "Epoch 13/100\n",
      "12551/12551 [==============================] - 1s 81us/step - loss: 853.7192 - mean_squared_error: 853.7191\n",
      "Epoch 14/100\n",
      "12551/12551 [==============================] - 1s 77us/step - loss: 843.3884 - mean_squared_error: 843.3887\n",
      "Epoch 15/100\n",
      "12551/12551 [==============================] - 1s 89us/step - loss: 850.1736 - mean_squared_error: 850.1738\n",
      "Epoch 16/100\n",
      "12551/12551 [==============================] - 1s 78us/step - loss: 842.4404 - mean_squared_error: 842.4407\n",
      "Epoch 17/100\n",
      "12551/12551 [==============================] - 1s 79us/step - loss: 839.0158 - mean_squared_error: 839.0154\n",
      "Epoch 18/100\n",
      "12551/12551 [==============================] - 1s 82us/step - loss: 840.8568 - mean_squared_error: 840.8559\n",
      "Epoch 19/100\n",
      "12551/12551 [==============================] - 1s 85us/step - loss: 845.9323 - mean_squared_error: 845.9327\n",
      "Epoch 20/100\n",
      "12551/12551 [==============================] - 1s 78us/step - loss: 829.9166 - mean_squared_error: 829.9163\n",
      "Epoch 21/100\n",
      "12551/12551 [==============================] - 1s 78us/step - loss: 828.8444 - mean_squared_error: 828.8445\n",
      "Epoch 22/100\n",
      "12551/12551 [==============================] - 1s 79us/step - loss: 834.6645 - mean_squared_error: 834.6646\n",
      "Epoch 23/100\n",
      "12551/12551 [==============================] - 1s 76us/step - loss: 821.8709 - mean_squared_error: 821.8712\n",
      "Epoch 24/100\n",
      "12551/12551 [==============================] - 1s 77us/step - loss: 816.3824 - mean_squared_error: 816.3829\n",
      "Epoch 25/100\n",
      "12551/12551 [==============================] - 1s 84us/step - loss: 829.7771 - mean_squared_error: 829.7762\n",
      "Epoch 26/100\n",
      "12551/12551 [==============================] - 1s 77us/step - loss: 809.9069 - mean_squared_error: 809.9073\n",
      "Epoch 27/100\n",
      "12551/12551 [==============================] - 1s 77us/step - loss: 824.6226 - mean_squared_error: 824.6217\n",
      "Epoch 28/100\n",
      "12551/12551 [==============================] - 1s 82us/step - loss: 802.7570 - mean_squared_error: 802.7571\n",
      "Epoch 29/100\n",
      "12551/12551 [==============================] - 1s 77us/step - loss: 844.5676 - mean_squared_error: 844.5680\n",
      "Epoch 30/100\n",
      "12551/12551 [==============================] - 1s 76us/step - loss: 808.2295 - mean_squared_error: 808.2301\n",
      "Epoch 31/100\n",
      "12551/12551 [==============================] - 1s 77us/step - loss: 814.5914 - mean_squared_error: 814.5912\n",
      "Epoch 32/100\n",
      "12551/12551 [==============================] - 1s 76us/step - loss: 805.6174 - mean_squared_error: 805.6176\n",
      "Epoch 33/100\n",
      "12551/12551 [==============================] - 1s 78us/step - loss: 801.3761 - mean_squared_error: 801.3760\n",
      "Epoch 34/100\n",
      "12551/12551 [==============================] - 1s 89us/step - loss: 816.5285 - mean_squared_error: 816.5286\n",
      "Epoch 35/100\n",
      "12551/12551 [==============================] - 1s 76us/step - loss: 796.1494 - mean_squared_error: 796.1495\n",
      "Epoch 36/100\n",
      "12551/12551 [==============================] - 1s 76us/step - loss: 796.9122 - mean_squared_error: 796.9123\n",
      "Epoch 37/100\n",
      "12551/12551 [==============================] - 1s 75us/step - loss: 799.3033 - mean_squared_error: 799.3036\n",
      "Epoch 38/100\n",
      "12551/12551 [==============================] - 1s 75us/step - loss: 809.0977 - mean_squared_error: 809.0981\n",
      "Epoch 39/100\n",
      "12551/12551 [==============================] - 1s 76us/step - loss: 801.7863 - mean_squared_error: 801.7864\n",
      "Epoch 40/100\n",
      "12551/12551 [==============================] - 1s 76us/step - loss: 792.7584 - mean_squared_error: 792.7578\n",
      "Epoch 41/100\n",
      "12551/12551 [==============================] - 1s 76us/step - loss: 790.2732 - mean_squared_error: 790.2729\n",
      "Epoch 42/100\n",
      "12551/12551 [==============================] - 1s 87us/step - loss: 793.7634 - mean_squared_error: 793.7631\n",
      "Epoch 43/100\n",
      "12551/12551 [==============================] - 1s 87us/step - loss: 786.0691 - mean_squared_error: 786.0695\n",
      "Epoch 44/100\n",
      "12551/12551 [==============================] - 1s 81us/step - loss: 790.8139 - mean_squared_error: 790.8140\n",
      "Epoch 45/100\n",
      "12551/12551 [==============================] - 1s 77us/step - loss: 789.6633 - mean_squared_error: 789.6639\n",
      "Epoch 46/100\n",
      "12551/12551 [==============================] - 1s 78us/step - loss: 789.5847 - mean_squared_error: 789.5849\n",
      "Epoch 47/100\n",
      "12551/12551 [==============================] - 1s 76us/step - loss: 783.6863 - mean_squared_error: 783.6865\n",
      "Epoch 48/100\n",
      "12551/12551 [==============================] - 1s 76us/step - loss: 790.9934 - mean_squared_error: 790.9932\n",
      "Epoch 49/100\n",
      "12551/12551 [==============================] - 1s 76us/step - loss: 783.1194 - mean_squared_error: 783.1194\n",
      "Epoch 50/100\n",
      "12551/12551 [==============================] - 1s 75us/step - loss: 780.9792 - mean_squared_error: 780.9791\n",
      "Epoch 51/100\n",
      "12551/12551 [==============================] - 1s 76us/step - loss: 780.0296 - mean_squared_error: 780.0298\n",
      "Epoch 52/100\n",
      "12551/12551 [==============================] - 1s 82us/step - loss: 767.6460 - mean_squared_error: 767.6465\n",
      "Epoch 53/100\n",
      "12551/12551 [==============================] - 1s 108us/step - loss: 773.8341 - mean_squared_error: 773.8339\n",
      "Epoch 54/100\n",
      "12551/12551 [==============================] - 1s 80us/step - loss: 774.5017 - mean_squared_error: 774.5014\n",
      "Epoch 55/100\n",
      "12551/12551 [==============================] - 1s 76us/step - loss: 771.2182 - mean_squared_error: 771.2184\n",
      "Epoch 56/100\n",
      "12551/12551 [==============================] - 1s 78us/step - loss: 777.2541 - mean_squared_error: 777.2538\n",
      "Epoch 57/100\n",
      "12551/12551 [==============================] - 1s 76us/step - loss: 768.4794 - mean_squared_error: 768.4793\n",
      "Epoch 58/100\n",
      "12551/12551 [==============================] - 1s 76us/step - loss: 770.9495 - mean_squared_error: 770.9497\n",
      "Epoch 59/100\n",
      "12551/12551 [==============================] - 1s 76us/step - loss: 767.7814 - mean_squared_error: 767.7813\n",
      "Epoch 60/100\n",
      "12551/12551 [==============================] - 1s 75us/step - loss: 776.5761 - mean_squared_error: 776.5766\n",
      "Epoch 61/100\n",
      "12551/12551 [==============================] - 1s 82us/step - loss: 775.0367 - mean_squared_error: 775.0367\n",
      "Epoch 62/100\n",
      "12551/12551 [==============================] - 1s 86us/step - loss: 775.0988 - mean_squared_error: 775.0991\n",
      "Epoch 63/100\n",
      "12551/12551 [==============================] - 1s 78us/step - loss: 773.5373 - mean_squared_error: 773.5369\n",
      "Epoch 64/100\n",
      "12551/12551 [==============================] - 1s 75us/step - loss: 770.6882 - mean_squared_error: 770.6879\n",
      "Epoch 65/100\n",
      "12551/12551 [==============================] - 1s 75us/step - loss: 764.1184 - mean_squared_error: 764.1185\n",
      "Epoch 66/100\n",
      "12551/12551 [==============================] - 1s 77us/step - loss: 764.8102 - mean_squared_error: 764.8102\n",
      "Epoch 67/100\n",
      "12551/12551 [==============================] - 1s 81us/step - loss: 754.1919 - mean_squared_error: 754.1920\n",
      "Epoch 68/100\n",
      "12551/12551 [==============================] - 1s 76us/step - loss: 763.6051 - mean_squared_error: 763.6050\n",
      "Epoch 69/100\n",
      "12551/12551 [==============================] - 1s 78us/step - loss: 758.3475 - mean_squared_error: 758.3475\n",
      "Epoch 70/100\n",
      "12551/12551 [==============================] - 1s 77us/step - loss: 764.4955 - mean_squared_error: 764.4954\n",
      "Epoch 71/100\n",
      "12551/12551 [==============================] - 1s 76us/step - loss: 764.9322 - mean_squared_error: 764.9322\n",
      "Epoch 72/100\n",
      "12551/12551 [==============================] - 1s 76us/step - loss: 753.0749 - mean_squared_error: 753.0754\n",
      "Epoch 73/100\n",
      "12551/12551 [==============================] - 1s 75us/step - loss: 760.1460 - mean_squared_error: 760.1455\n",
      "Epoch 74/100\n",
      "12551/12551 [==============================] - 1s 76us/step - loss: 761.1094 - mean_squared_error: 761.1095\n",
      "Epoch 75/100\n",
      "12551/12551 [==============================] - 1s 78us/step - loss: 765.7456 - mean_squared_error: 765.7462\n",
      "Epoch 76/100\n",
      "12551/12551 [==============================] - 1s 77us/step - loss: 758.7223 - mean_squared_error: 758.7222\n",
      "Epoch 77/100\n",
      "12551/12551 [==============================] - 1s 76us/step - loss: 752.5760 - mean_squared_error: 752.5759\n",
      "Epoch 78/100\n",
      "12551/12551 [==============================] - 1s 75us/step - loss: 749.3768 - mean_squared_error: 749.3771\n",
      "Epoch 79/100\n",
      "12551/12551 [==============================] - 1s 75us/step - loss: 759.5018 - mean_squared_error: 759.5016\n",
      "Epoch 80/100\n",
      "12551/12551 [==============================] - 1s 76us/step - loss: 758.2107 - mean_squared_error: 758.2106\n",
      "Epoch 81/100\n",
      "12551/12551 [==============================] - 1s 78us/step - loss: 737.2871 - mean_squared_error: 737.2869\n",
      "Epoch 82/100\n",
      "12551/12551 [==============================] - 1s 76us/step - loss: 762.8595 - mean_squared_error: 762.8598\n",
      "Epoch 83/100\n",
      "12551/12551 [==============================] - 1s 74us/step - loss: 749.8028 - mean_squared_error: 749.8018\n",
      "Epoch 84/100\n",
      "12551/12551 [==============================] - 1s 77us/step - loss: 750.4732 - mean_squared_error: 750.4732\n",
      "Epoch 85/100\n",
      "12551/12551 [==============================] - 1s 78us/step - loss: 744.1960 - mean_squared_error: 744.1963\n",
      "Epoch 86/100\n",
      "12551/12551 [==============================] - 1s 75us/step - loss: 744.3459 - mean_squared_error: 744.3459\n",
      "Epoch 87/100\n",
      "12551/12551 [==============================] - 1s 76us/step - loss: 743.6194 - mean_squared_error: 743.6194\n",
      "Epoch 88/100\n",
      "12551/12551 [==============================] - 1s 77us/step - loss: 750.7359 - mean_squared_error: 750.7360\n",
      "Epoch 89/100\n",
      "12551/12551 [==============================] - 1s 75us/step - loss: 732.0182 - mean_squared_error: 732.0178\n",
      "Epoch 90/100\n",
      "12551/12551 [==============================] - 1s 76us/step - loss: 744.0023 - mean_squared_error: 744.0026\n",
      "Epoch 91/100\n",
      "12551/12551 [==============================] - 1s 76us/step - loss: 748.6096 - mean_squared_error: 748.6092\n",
      "Epoch 92/100\n",
      "12551/12551 [==============================] - 1s 78us/step - loss: 735.1267 - mean_squared_error: 735.1265\n",
      "Epoch 93/100\n",
      "12551/12551 [==============================] - 1s 78us/step - loss: 738.3992 - mean_squared_error: 738.3994\n",
      "Epoch 94/100\n",
      "12551/12551 [==============================] - 1s 75us/step - loss: 742.3900 - mean_squared_error: 742.3900\n",
      "Epoch 95/100\n",
      "12551/12551 [==============================] - 1s 74us/step - loss: 745.0211 - mean_squared_error: 745.0211\n",
      "Epoch 96/100\n",
      "12551/12551 [==============================] - 1s 75us/step - loss: 727.8862 - mean_squared_error: 727.8862\n",
      "Epoch 97/100\n",
      "12551/12551 [==============================] - 1s 75us/step - loss: 741.6037 - mean_squared_error: 741.6044\n",
      "Epoch 98/100\n",
      "12551/12551 [==============================] - 1s 76us/step - loss: 731.5992 - mean_squared_error: 731.5993\n",
      "Epoch 99/100\n",
      "12551/12551 [==============================] - 1s 75us/step - loss: 734.3077 - mean_squared_error: 734.3078\n",
      "Epoch 100/100\n",
      "12551/12551 [==============================] - 2s 120us/step - loss: 737.5787 - mean_squared_error: 737.5783\n"
     ]
    },
    {
     "data": {
      "text/plain": [
       "<keras.callbacks.callbacks.History at 0x7f972b02ad60>"
      ]
     },
     "execution_count": 312,
     "metadata": {},
     "output_type": "execute_result"
    }
   ],
   "source": [
    "ann.fit(X_train, y_train, batch_size=12, nb_epoch=100)"
   ]
  },
  {
   "cell_type": "code",
   "execution_count": 313,
   "metadata": {},
   "outputs": [
    {
     "data": {
      "text/plain": [
       "761.4802231064082"
      ]
     },
     "execution_count": 313,
     "metadata": {},
     "output_type": "execute_result"
    }
   ],
   "source": [
    "from sklearn.metrics import mean_squared_error as mse\n",
    "mse(y_test, ann.predict(X_test))"
   ]
  },
  {
   "cell_type": "code",
   "execution_count": 315,
   "metadata": {},
   "outputs": [
    {
     "data": {
      "image/png": "[encoded data removed]",
      "text/plain": [
       "<Figure size 432x288 with 1 Axes>"
      ]
     },
     "metadata": {
      "needs_background": "light"
     },
     "output_type": "display_data"
    }
   ],
   "source": [
    "plt.title(\"ANN Performance\")\n",
    "plt.ylabel('Prediction')\n",
    "plt.xlabel('Real')\n",
    "plt.scatter(y_test, ann.predict(X_test), c='blue', alpha=0.1)\n",
    "plt.plot([1,10,100,200,300,400],[1,10,100,200,300,400],c='red')\n",
    "plt.savefig('ann.png')\n",
    "plt.show()"
   ]
  },
  {
   "cell_type": "code",
   "execution_count": null,
   "metadata": {},
   "outputs": [],
   "source": []
  }
 ],
 "metadata": {
  "kernelspec": {
   "display_name": "Python 3",
   "language": "python",
   "name": "python3"
  },
  "language_info": {
   "codemirror_mode": {
    "name": "ipython",
    "version": 3
   },
   "file_extension": ".py",
   "mimetype": "text/x-python",
   "name": "python",
   "nbconvert_exporter": "python",
   "pygments_lexer": "ipython3",
   "version": "3.8.2"
  }
 },
 "nbformat": 4,
 "nbformat_minor": 4
}
